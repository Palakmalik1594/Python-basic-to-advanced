{
 "cells": [
  {
   "cell_type": "code",
   "execution_count": 38,
   "id": "8564717d-2c35-474b-a515-45f8a58bbac0",
   "metadata": {},
   "outputs": [
    {
     "name": "stdout",
     "output_type": "stream",
     "text": [
      "History\n"
     ]
    }
   ],
   "source": [
    "#List\n",
    "courses=['History','Maths','Physics','Compsci']\n",
    "print(courses[0])"
   ]
  },
  {
   "cell_type": "code",
   "execution_count": 40,
   "id": "d4667690-e26d-48c0-9c36-b9ebea163eb1",
   "metadata": {},
   "outputs": [
    {
     "name": "stdout",
     "output_type": "stream",
     "text": [
      "['History', 'Maths']\n"
     ]
    }
   ],
   "source": [
    "print(courses[0:2]) #2 will not be included"
   ]
  },
  {
   "cell_type": "code",
   "execution_count": 42,
   "id": "456017e4-e3d3-41b6-9fa3-dea7839060e0",
   "metadata": {},
   "outputs": [
    {
     "name": "stdout",
     "output_type": "stream",
     "text": [
      "['History', 'Maths', 'Physics', 'Compsci', 'Art']\n"
     ]
    }
   ],
   "source": [
    "#for adding item at end of list is known as appending a list\n",
    "courses.append('Art')\n",
    "print(courses)"
   ]
  },
  {
   "cell_type": "code",
   "execution_count": 44,
   "id": "9d37a07f-f74e-492a-8825-b7bad7c27dae",
   "metadata": {},
   "outputs": [
    {
     "name": "stdout",
     "output_type": "stream",
     "text": [
      "['Art', 'History', 'Maths', 'Physics', 'Compsci', 'Art']\n"
     ]
    }
   ],
   "source": [
    "#for insertion at a perticular location, we will make use of insert method\n",
    "courses.insert(0,'Art')\n",
    "print(courses)"
   ]
  },
  {
   "cell_type": "code",
   "execution_count": 46,
   "id": "20f56eb7-b62e-4636-8b68-4f20859a8f7e",
   "metadata": {},
   "outputs": [
    {
     "name": "stdout",
     "output_type": "stream",
     "text": [
      "['Art', 'History', 'Maths', 'Physics', 'Compsci', 'Art', 'science', 'political']\n"
     ]
    }
   ],
   "source": [
    "#if multiple values are there, make use of extend method\n",
    "course2=['science','political']\n",
    "courses.extend(course2)\n",
    "print(courses)"
   ]
  },
  {
   "cell_type": "code",
   "execution_count": 50,
   "id": "4a07faae-73d2-43cf-a906-c031ae66b6db",
   "metadata": {},
   "outputs": [
    {
     "name": "stdout",
     "output_type": "stream",
     "text": [
      "['Art', 'History', 'Physics', 'Compsci', 'Art', 'science', 'political']\n"
     ]
    }
   ],
   "source": [
    "#for removing values from list\n",
    "courses.remove('Maths')\n",
    "print(courses)"
   ]
  },
  {
   "cell_type": "code",
   "execution_count": 54,
   "id": "76de4708-986f-4d7b-b4f0-6b2c8cf2c6ef",
   "metadata": {},
   "outputs": [
    {
     "name": "stdout",
     "output_type": "stream",
     "text": [
      "['Art', 'Art', 'Compsci', 'History', 'Physics', 'political', 'science']\n"
     ]
    }
   ],
   "source": [
    "#for sorting a list\n",
    "courses.sort()\n",
    "print(courses)"
   ]
  },
  {
   "cell_type": "code",
   "execution_count": 56,
   "id": "2dbb55ca-4ac1-4ae2-aa62-a8d4040a6d72",
   "metadata": {},
   "outputs": [],
   "source": [
    "#for reversing a list,use courses.reverse()\n",
    "courses.reverse()"
   ]
  },
  {
   "cell_type": "code",
   "execution_count": 58,
   "id": "8b62625f-1274-4369-a9eb-c04115d248b3",
   "metadata": {},
   "outputs": [
    {
     "name": "stdout",
     "output_type": "stream",
     "text": [
      "['Art', 'Art', 'Compsci', 'History', 'Physics', 'political', 'science']\n"
     ]
    }
   ],
   "source": [
    "#if we are using sorted function,then we have to make a new variable\n",
    "sorted_courses=sorted(courses)\n",
    "print(sorted_courses)"
   ]
  },
  {
   "cell_type": "code",
   "execution_count": 60,
   "id": "8562983a-542d-49c7-bbc5-6654496e888a",
   "metadata": {},
   "outputs": [
    {
     "name": "stdout",
     "output_type": "stream",
     "text": [
      "5\n",
      "1\n",
      "15\n"
     ]
    }
   ],
   "source": [
    "#for getting minimum,maximum,sum of elements in a list\n",
    "nums=[1,2,3,4,5]\n",
    "print(max(nums))\n",
    "print(min(nums))\n",
    "print(sum(nums))"
   ]
  },
  {
   "cell_type": "code",
   "execution_count": 62,
   "id": "81edc806-d29f-499d-883e-e7e21c52efa0",
   "metadata": {},
   "outputs": [
    {
     "name": "stdout",
     "output_type": "stream",
     "text": [
      "3\n"
     ]
    }
   ],
   "source": [
    "#finding index of a particular value\n",
    "print(courses.index('History'))"
   ]
  },
  {
   "cell_type": "code",
   "execution_count": 64,
   "id": "99308697-af88-4fa5-be71-bab901a10a6d",
   "metadata": {},
   "outputs": [
    {
     "name": "stdout",
     "output_type": "stream",
     "text": [
      "True\n"
     ]
    }
   ],
   "source": [
    "#for checking if element exist\n",
    "print('History' in courses)"
   ]
  },
  {
   "cell_type": "code",
   "execution_count": 66,
   "id": "972744e6-6ad6-4400-a113-d667c0318ca7",
   "metadata": {},
   "outputs": [
    {
     "name": "stdout",
     "output_type": "stream",
     "text": [
      "science\n",
      "political\n",
      "Physics\n",
      "History\n",
      "Compsci\n",
      "Art\n",
      "Art\n"
     ]
    }
   ],
   "source": [
    "#loop\n",
    "for course in courses:\n",
    "    print(course)"
   ]
  },
  {
   "cell_type": "code",
   "execution_count": 68,
   "id": "c94028ef-5624-4e49-9dad-3ee6338ce928",
   "metadata": {},
   "outputs": [
    {
     "name": "stdout",
     "output_type": "stream",
     "text": [
      "0 science\n",
      "1 political\n",
      "2 Physics\n",
      "3 History\n",
      "4 Compsci\n",
      "5 Art\n",
      "6 Art\n"
     ]
    }
   ],
   "source": [
    "#if accessing both index as well as elements,make use of enumerate function\n",
    "for index,course in enumerate(courses):\n",
    "    print(index,course);"
   ]
  },
  {
   "cell_type": "code",
   "execution_count": 70,
   "id": "20142acb-a636-426a-a7db-254a0ca5cd06",
   "metadata": {},
   "outputs": [
    {
     "name": "stdout",
     "output_type": "stream",
     "text": [
      "science-political-Physics-History-Compsci-Art-Art\n"
     ]
    }
   ],
   "source": [
    "#separating a list by ',' or '-' by converting it in string\n",
    "courses_str='-'.join(courses)\n",
    "print(courses_str)"
   ]
  },
  {
   "cell_type": "code",
   "execution_count": 72,
   "id": "56faa2d1-a9c1-4e5c-8f27-b2c7794ae230",
   "metadata": {},
   "outputs": [],
   "source": [
    "#making of an empty list\n",
    "empty_list=[]\n",
    "#or\n",
    "empty_list=list()"
   ]
  },
  {
   "cell_type": "code",
   "execution_count": 90,
   "id": "d5f53b30-4f81-4c28-a4cb-fb9fc5646b55",
   "metadata": {},
   "outputs": [
    {
     "name": "stdout",
     "output_type": "stream",
     "text": [
      "[0, 1, 2, 3, 4, 5, 6, 7, 8]\n"
     ]
    }
   ],
   "source": [
    "#####SLICING IN A LIST\n",
    "listing=[0,1,2,3,4,5,6,7,8,9]\n",
    "#        0,1,2,3,4,5,6,7,8,9\n",
    "#      -10,-9,-8,-7,-6,-5,-4,-3,-2,-1\n",
    "print(listing[:-1])"
   ]
  },
  {
   "cell_type": "code",
   "execution_count": 92,
   "id": "b903932b-db7b-44a3-94e7-93bedbf2d62c",
   "metadata": {},
   "outputs": [
    {
     "name": "stdout",
     "output_type": "stream",
     "text": [
      "[2, 4, 6, 8]\n"
     ]
    }
   ],
   "source": [
    "#list[start,end,step]\n",
    "print(listing[2:-1:2])"
   ]
  },
  {
   "cell_type": "code",
   "execution_count": 94,
   "id": "dbe9c112-d9ec-4cb9-b029-13e27f5d632f",
   "metadata": {},
   "outputs": [
    {
     "name": "stdout",
     "output_type": "stream",
     "text": [
      "[]\n"
     ]
    }
   ],
   "source": [
    "print(listing[2:4:-1])"
   ]
  },
  {
   "cell_type": "code",
   "execution_count": 96,
   "id": "4025d428-8ac7-4161-9e36-c64983e56b29",
   "metadata": {},
   "outputs": [
    {
     "name": "stdout",
     "output_type": "stream",
     "text": [
      "[9, 8, 7, 6, 5, 4, 3, 2, 1, 0]\n"
     ]
    }
   ],
   "source": [
    "#reverse\n",
    "print(listing[::-1])"
   ]
  },
  {
   "cell_type": "code",
   "execution_count": null,
   "id": "03ecbf57-239e-4180-b91f-b43877592f79",
   "metadata": {},
   "outputs": [],
   "source": []
  }
 ],
 "metadata": {
  "kernelspec": {
   "display_name": "Python [conda env:base] *",
   "language": "python",
   "name": "conda-base-py"
  },
  "language_info": {
   "codemirror_mode": {
    "name": "ipython",
    "version": 3
   },
   "file_extension": ".py",
   "mimetype": "text/x-python",
   "name": "python",
   "nbconvert_exporter": "python",
   "pygments_lexer": "ipython3",
   "version": "3.12.7"
  }
 },
 "nbformat": 4,
 "nbformat_minor": 5
}
