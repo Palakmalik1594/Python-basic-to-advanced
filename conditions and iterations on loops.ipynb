{
 "cells": [
  {
   "cell_type": "code",
   "execution_count": 9,
   "id": "1431ea89-08e7-481f-bc43-723ce21a79a7",
   "metadata": {},
   "outputs": [
    {
     "name": "stdout",
     "output_type": "stream",
     "text": [
      "Language is Java\n"
     ]
    }
   ],
   "source": [
    "#conditionals and booleans\n",
    "language='Java'\n",
    "if language == 'Java':\n",
    "    print('Language is Java')\n",
    "else:\n",
    "    print('Language is not java')"
   ]
  },
  {
   "cell_type": "code",
   "execution_count": 11,
   "id": "3cc36687-df26-4140-86f1-82b0c871f1c4",
   "metadata": {},
   "outputs": [
    {
     "name": "stdout",
     "output_type": "stream",
     "text": [
      "language is java\n"
     ]
    }
   ],
   "source": [
    "language='java'\n",
    "if language=='Python':\n",
    "    print('Language is python')\n",
    "elif(language=='java'):\n",
    "    print('language is java')\n",
    "else:\n",
    "    print('no match')"
   ]
  },
  {
   "cell_type": "code",
   "execution_count": 13,
   "id": "ac98235c-e5df-4c91-92da-fbbe69b80755",
   "metadata": {},
   "outputs": [
    {
     "name": "stdout",
     "output_type": "stream",
     "text": [
      "Admin page\n"
     ]
    }
   ],
   "source": [
    "#boolean operations- and,or, not\n",
    "user='Admin'\n",
    "logged_in=True\n",
    "if user=='Admin' and 'logged_in':\n",
    "    print('Admin page')\n",
    "else:\n",
    "    print('Bad creads')"
   ]
  },
  {
   "cell_type": "code",
   "execution_count": 15,
   "id": "1e0a9ba4-eca8-41d5-917d-981529c9cf78",
   "metadata": {},
   "outputs": [
    {
     "name": "stdout",
     "output_type": "stream",
     "text": [
      "1\n",
      "2\n",
      "3\n",
      "4\n",
      "5\n"
     ]
    }
   ],
   "source": [
    "##Loops and iterations\n",
    "nums=[1,2,3,4,5]\n",
    "for num in nums:\n",
    "    print(num)"
   ]
  },
  {
   "cell_type": "code",
   "execution_count": 17,
   "id": "85339574-a09c-4802-8ba3-b6d6e45bd815",
   "metadata": {},
   "outputs": [
    {
     "name": "stdout",
     "output_type": "stream",
     "text": [
      "1\n",
      "2\n",
      "Found!\n"
     ]
    }
   ],
   "source": [
    "#use of break statement\n",
    "for num in nums:\n",
    "    if(num==3):\n",
    "        print('Found!')\n",
    "        break;\n",
    "    print(num)"
   ]
  },
  {
   "cell_type": "code",
   "execution_count": 25,
   "id": "fb1ab25b-8e62-4375-b034-1dd17d91e65d",
   "metadata": {},
   "outputs": [
    {
     "name": "stdout",
     "output_type": "stream",
     "text": [
      "1\n",
      "2\n",
      "found!\n",
      "4\n",
      "5\n"
     ]
    }
   ],
   "source": [
    "#use of continue statement\n",
    "for num in nums:\n",
    "    if(num==3):\n",
    "        print('found!')\n",
    "        continue;\n",
    "    print(num)"
   ]
  },
  {
   "cell_type": "code",
   "execution_count": 27,
   "id": "cc33502b-06d3-40af-b970-3110c543c26c",
   "metadata": {},
   "outputs": [
    {
     "name": "stdout",
     "output_type": "stream",
     "text": [
      "1 a\n",
      "1 b\n",
      "1 c\n",
      "2 a\n",
      "2 b\n",
      "2 c\n",
      "3 a\n",
      "3 b\n",
      "3 c\n",
      "4 a\n",
      "4 b\n",
      "4 c\n",
      "5 a\n",
      "5 b\n",
      "5 c\n"
     ]
    }
   ],
   "source": [
    "#nested loop\n",
    "for num in nums:\n",
    "    for letter in 'abc':\n",
    "        print(num,letter)"
   ]
  },
  {
   "cell_type": "code",
   "execution_count": 29,
   "id": "d7d628cb-4855-4602-a15f-7f962f66ff1e",
   "metadata": {},
   "outputs": [
    {
     "name": "stdout",
     "output_type": "stream",
     "text": [
      "0\n",
      "1\n",
      "2\n",
      "3\n",
      "4\n",
      "5\n",
      "6\n",
      "7\n",
      "8\n",
      "9\n"
     ]
    }
   ],
   "source": [
    "#for printing something in range, a builtin function range is there\n",
    "for i in range(10):\n",
    "    print(i)"
   ]
  },
  {
   "cell_type": "code",
   "execution_count": 31,
   "id": "9af839a7-4229-400c-a622-f44e344adaa9",
   "metadata": {},
   "outputs": [
    {
     "name": "stdout",
     "output_type": "stream",
     "text": [
      "1\n",
      "2\n",
      "3\n",
      "4\n",
      "5\n",
      "6\n",
      "7\n",
      "8\n",
      "9\n",
      "10\n"
     ]
    }
   ],
   "source": [
    "for i in range(1,11):\n",
    "    print(i)"
   ]
  },
  {
   "cell_type": "code",
   "execution_count": 36,
   "id": "c4a54285-7aab-4168-a18a-3a8df17939ed",
   "metadata": {},
   "outputs": [
    {
     "name": "stdout",
     "output_type": "stream",
     "text": [
      "0\n",
      "1\n",
      "2\n",
      "3\n",
      "4\n"
     ]
    }
   ],
   "source": [
    "x=0\n",
    "while True:\n",
    "    if(x==5):\n",
    "        break\n",
    "    print(x)\n",
    "    x=x+1"
   ]
  },
  {
   "cell_type": "code",
   "execution_count": 38,
   "id": "9d3d974d-dd2f-4b81-88a9-f6a80dae37c4",
   "metadata": {},
   "outputs": [],
   "source": [
    "#if stuck in infinite loop,press ctrl+c to stop that\n"
   ]
  },
  {
   "cell_type": "code",
   "execution_count": 40,
   "id": "da379187-6181-402e-824f-24a6c3196f59",
   "metadata": {},
   "outputs": [
    {
     "name": "stdout",
     "output_type": "stream",
     "text": [
      "1\n",
      "2\n",
      "3\n",
      "4\n"
     ]
    }
   ],
   "source": [
    "#break,continue,pass statement in python\n",
    "for i in range(1,11):\n",
    "    if i==5:\n",
    "        break\n",
    "    print(i)\n",
    "    "
   ]
  },
  {
   "cell_type": "code",
   "execution_count": 42,
   "id": "70ca2a90-1973-4b05-bd07-e41b4ce9dd0a",
   "metadata": {},
   "outputs": [
    {
     "name": "stdout",
     "output_type": "stream",
     "text": [
      "1\n",
      "hello world\n",
      "2\n",
      "hello world\n",
      "3\n",
      "hello world\n",
      "4\n",
      "hello world\n",
      "6\n",
      "hello world\n",
      "7\n",
      "hello world\n",
      "8\n",
      "hello world\n",
      "9\n",
      "hello world\n",
      "10\n",
      "hello world\n"
     ]
    }
   ],
   "source": [
    "#continue\n",
    "for i in range(1,11):\n",
    "    if i==5:\n",
    "        continue\n",
    "    print(i)\n",
    "    print('hello world')"
   ]
  },
  {
   "cell_type": "code",
   "execution_count": 44,
   "id": "e5e5e8f2-ba15-4f52-b8a3-9b2b1a98b79d",
   "metadata": {},
   "outputs": [],
   "source": [
    "#pass statement\n",
    "#when we are not sure what to write inside the loop or unsure about the code,we can make use of pass fucntion\n",
    "for i in range(1,11):\n",
    "    pass"
   ]
  },
  {
   "cell_type": "code",
   "execution_count": 48,
   "id": "17b48330-4afa-4e57-8101-029738f6d43d",
   "metadata": {},
   "outputs": [
    {
     "name": "stdout",
     "output_type": "stream",
     "text": [
      "[1, 2, 3, 4, 5, 6, 7, 8, 9]\n"
     ]
    }
   ],
   "source": [
    "#comprehensions=easy way to create something\n",
    "nums=[1,2,3,4,5,6,7,8,9]\n",
    "my_list=[]\n",
    "for n in nums:\n",
    "    my_list.append(n)\n",
    "print(my_list)"
   ]
  },
  {
   "cell_type": "code",
   "execution_count": 50,
   "id": "52ba2fa5-b0bf-4a63-b848-189f3b630eb2",
   "metadata": {},
   "outputs": [
    {
     "name": "stdout",
     "output_type": "stream",
     "text": [
      "[1, 2, 3, 4, 5, 6, 7, 8, 9]\n"
     ]
    }
   ],
   "source": [
    "#or\n",
    "my_list=[n for n in nums]\n",
    "print(my_list)"
   ]
  },
  {
   "cell_type": "code",
   "execution_count": 59,
   "id": "9de9620f-3b69-4a08-82d4-98a027ddba8f",
   "metadata": {},
   "outputs": [
    {
     "name": "stdout",
     "output_type": "stream",
     "text": [
      "[1, 4, 9, 16, 25, 36, 49, 64, 81]\n"
     ]
    }
   ],
   "source": [
    "#for getting n square\n",
    "nums=[1,2,3,4,5,6,7,8,9]\n",
    "my_new=[]\n",
    "for m in nums:\n",
    "    my_new.append(m*m)\n",
    "print(my_new)"
   ]
  },
  {
   "cell_type": "code",
   "execution_count": 61,
   "id": "a155816b-0f0e-41c4-a139-2f6012b004c2",
   "metadata": {},
   "outputs": [
    {
     "name": "stdout",
     "output_type": "stream",
     "text": [
      "[1, 4, 9, 16, 25, 36, 49, 64, 81]\n"
     ]
    }
   ],
   "source": [
    "my_new=[m*m for m in nums]\n",
    "print(my_new)"
   ]
  },
  {
   "cell_type": "code",
   "execution_count": 65,
   "id": "cba71e89-79c0-41ec-94ce-b7f8ec8fb401",
   "metadata": {},
   "outputs": [
    {
     "name": "stdout",
     "output_type": "stream",
     "text": [
      "[2, 4, 6, 8]\n"
     ]
    }
   ],
   "source": [
    "#printing only those numbers which are even\n",
    "my_list=[]\n",
    "for n in nums:\n",
    "    if(n%2==0):\n",
    "        my_list.append(n)\n",
    "print(my_list)"
   ]
  },
  {
   "cell_type": "code",
   "execution_count": 71,
   "id": "e15b0203-b629-416d-8ca8-df3d2a12c1fb",
   "metadata": {},
   "outputs": [
    {
     "name": "stdout",
     "output_type": "stream",
     "text": [
      "[2, 4, 6, 8]\n"
     ]
    }
   ],
   "source": [
    "#other method\n",
    "my_lists=[n for n in nums if n%2==0]\n",
    "print(my_lists)"
   ]
  },
  {
   "cell_type": "code",
   "execution_count": 77,
   "id": "0e0db4a3-c100-4ad9-a16b-714630831458",
   "metadata": {},
   "outputs": [
    {
     "name": "stdout",
     "output_type": "stream",
     "text": [
      "[2, 4, 6, 8]\n"
     ]
    }
   ],
   "source": [
    "#other method\n",
    "my_list=filter(lambda n: n%2==0,nums)\n",
    "print(list(my_list))"
   ]
  },
  {
   "cell_type": "code",
   "execution_count": 79,
   "id": "7b66d357-043b-4022-927c-46e3d483bb78",
   "metadata": {},
   "outputs": [
    {
     "name": "stdout",
     "output_type": "stream",
     "text": [
      "[('a', 0), ('a', 1), ('a', 2), ('a', 3), ('b', 0), ('b', 1), ('b', 2), ('b', 3), ('c', 0), ('c', 1), ('c', 2), ('c', 3), ('d', 0), ('d', 1), ('d', 2), ('d', 3)]\n"
     ]
    }
   ],
   "source": [
    "# now if i want a(letter,num) pair for each letter in 'abcd' and number in '0123'\n",
    "my_list=[]\n",
    "for letter in 'abcd':\n",
    "    for num in range(4):\n",
    "        my_list.append((letter,num))\n",
    "print(my_list)"
   ]
  },
  {
   "cell_type": "code",
   "execution_count": 81,
   "id": "70b1ac4b-465a-46ae-846a-c937452d72b2",
   "metadata": {},
   "outputs": [
    {
     "name": "stdout",
     "output_type": "stream",
     "text": [
      "[('a', 0), ('a', 1), ('a', 2), ('a', 3), ('b', 0), ('b', 1), ('b', 2), ('b', 3), ('c', 0), ('c', 1), ('c', 2), ('c', 3), ('d', 0), ('d', 1), ('d', 2), ('d', 3)]\n"
     ]
    }
   ],
   "source": [
    "my_listing=[(letter,num) for letter in 'abcd' for num in range(4)]\n",
    "print(my_listing)"
   ]
  },
  {
   "cell_type": "code",
   "execution_count": 93,
   "id": "a9c3ec4d-7d08-4685-a95e-fb0e62f6c76a",
   "metadata": {},
   "outputs": [
    {
     "name": "stdout",
     "output_type": "stream",
     "text": [
      "[('Bruce', 'Batman'), ('Clark', 'Superman'), ('Peter', 'Spiderman'), ('Logan', 'Wolverine'), ('wade', 'Deadpool')]\n"
     ]
    }
   ],
   "source": [
    "#this comprehension can be done with dictionary as well as set also\n",
    "names=['Bruce','Clark','Peter','Logan','wade']\n",
    "heroes=['Batman','Superman','Spiderman','Wolverine','Deadpool']\n",
    "print(list(zip(names,heroes)))"
   ]
  },
  {
   "cell_type": "code",
   "execution_count": 95,
   "id": "22ee21c8-a3a4-4d0e-980a-72748d0e73ee",
   "metadata": {},
   "outputs": [
    {
     "name": "stdout",
     "output_type": "stream",
     "text": [
      "{'Bruce': 'Batman', 'Clark': 'Superman', 'Peter': 'Spiderman', 'Logan': 'Wolverine', 'wade': 'Deadpool'}\n"
     ]
    }
   ],
   "source": [
    "#other way using for loop\n",
    "my_dict={}\n",
    "for name,hero in zip(names,heroes):\n",
    "    my_dict[name]=hero\n",
    "print(my_dict)"
   ]
  },
  {
   "cell_type": "code",
   "execution_count": 101,
   "id": "3944e4fe-3170-4d2d-ac31-b9d1a3e4e5b6",
   "metadata": {},
   "outputs": [
    {
     "name": "stdout",
     "output_type": "stream",
     "text": [
      "{'Bruce': 'Batman', 'Clark': 'Superman', 'Logan': 'Wolverine', 'wade': 'Deadpool'}\n"
     ]
    }
   ],
   "source": [
    "my_dict={name: hero for name,hero in zip (names,heroes) if name!='Peter'}\n",
    "print(my_dict)"
   ]
  },
  {
   "cell_type": "code",
   "execution_count": 103,
   "id": "8d74d1a8-eedc-4ee9-bbca-4a4cce8a9cb3",
   "metadata": {},
   "outputs": [
    {
     "name": "stdout",
     "output_type": "stream",
     "text": [
      "{1, 2, 3, 4, 36, 6, 7, 8, 9}\n"
     ]
    }
   ],
   "source": [
    "#set basically provides all the unique values\n",
    "nums=[1,2,3,4,1,2,36,7,8,9,6,8]\n",
    "my_set=set()\n",
    "for n in nums:\n",
    "    my_set.add(n);\n",
    "print(my_set)\n"
   ]
  },
  {
   "cell_type": "code",
   "execution_count": 105,
   "id": "df5224d8-12c9-42c8-aae6-4327242cfa7f",
   "metadata": {},
   "outputs": [
    {
     "name": "stdout",
     "output_type": "stream",
     "text": [
      "{1, 2, 3, 4, 36, 6, 7, 8, 9}\n"
     ]
    }
   ],
   "source": [
    "#for doint it in comprehension\n",
    "my_set={n for n in nums}\n",
    "print(my_set)"
   ]
  },
  {
   "cell_type": "code",
   "execution_count": 109,
   "id": "0a275e8e-7192-4ba3-b031-196138036b31",
   "metadata": {},
   "outputs": [
    {
     "name": "stdout",
     "output_type": "stream",
     "text": [
      "1\n",
      "4\n",
      "9\n",
      "16\n",
      "25\n",
      "36\n",
      "49\n",
      "64\n",
      "81\n",
      "100\n"
     ]
    }
   ],
   "source": [
    "#for doing it in generic functions\n",
    "nums=[1,2,3,4,5,6,7,8,9,10]\n",
    "def gen_func(nums):\n",
    "    for n in nums:\n",
    "        yield n*n\n",
    "my_gen=gen_func(nums)\n",
    "for i in my_gen:\n",
    "    print (i)"
   ]
  },
  {
   "cell_type": "code",
   "execution_count": 111,
   "id": "4a94a276-d582-47bc-bdf0-1bcb0a2c8fba",
   "metadata": {},
   "outputs": [
    {
     "name": "stdout",
     "output_type": "stream",
     "text": [
      "1\n",
      "4\n",
      "9\n",
      "16\n",
      "25\n",
      "36\n",
      "49\n",
      "64\n",
      "81\n",
      "100\n"
     ]
    }
   ],
   "source": [
    "#or now using generic expression for this\n",
    "my_gen=(n*n for n in nums)\n",
    "for i in my_gen:\n",
    "    print(i)"
   ]
  },
  {
   "cell_type": "code",
   "execution_count": null,
   "id": "bc9e35a6-e898-4a2e-aa8c-bb35be3a686c",
   "metadata": {},
   "outputs": [],
   "source": []
  }
 ],
 "metadata": {
  "kernelspec": {
   "display_name": "Python [conda env:base] *",
   "language": "python",
   "name": "conda-base-py"
  },
  "language_info": {
   "codemirror_mode": {
    "name": "ipython",
    "version": 3
   },
   "file_extension": ".py",
   "mimetype": "text/x-python",
   "name": "python",
   "nbconvert_exporter": "python",
   "pygments_lexer": "ipython3",
   "version": "3.12.7"
  }
 },
 "nbformat": 4,
 "nbformat_minor": 5
}
