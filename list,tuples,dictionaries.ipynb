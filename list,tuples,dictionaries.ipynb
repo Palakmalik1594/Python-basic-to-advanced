{
 "cells": [
  {
   "cell_type": "code",
   "execution_count": 1,
   "id": "66ddf9b6-083a-41b2-9856-bb898bd4eb90",
   "metadata": {},
   "outputs": [
    {
     "name": "stdout",
     "output_type": "stream",
     "text": [
      "('His', 'Math')\n"
     ]
    }
   ],
   "source": [
    "  #TUPLES AND SETS AND DICTIONARIES\n",
    "#TUPLES\n",
    "#tuples are immutable. This \"(\" symbol is used\n",
    "tuples_1=('His' ,'Math')\n",
    "print(tuples_1)"
   ]
  },
  {
   "cell_type": "code",
   "execution_count": 3,
   "id": "97862759-c302-43d7-8af6-124b6e444f01",
   "metadata": {},
   "outputs": [
    {
     "name": "stdout",
     "output_type": "stream",
     "text": [
      "His\n"
     ]
    }
   ],
   "source": [
    "print(tuples_1[0])"
   ]
  },
  {
   "cell_type": "code",
   "execution_count": 5,
   "id": "d3bf9e8a-50a1-4cce-8b91-d91c50591e2d",
   "metadata": {},
   "outputs": [
    {
     "name": "stdout",
     "output_type": "stream",
     "text": [
      "('His', 'Math')\n",
      "('His', 'Math')\n"
     ]
    }
   ],
   "source": [
    "tuples_2=tuples_1\n",
    "print(tuples_1)\n",
    "print(tuples_2)"
   ]
  },
  {
   "cell_type": "code",
   "execution_count": 15,
   "id": "d929b495-c343-443b-bae3-27a8d8c20022",
   "metadata": {},
   "outputs": [],
   "source": [
    "#it will give error bcz they doesnot support remove,append, modify.\n",
    "#tuples_1[0]=('she')"
   ]
  },
  {
   "cell_type": "code",
   "execution_count": 11,
   "id": "ef5b559f-a74f-43fa-9ad6-d0d29477722c",
   "metadata": {},
   "outputs": [
    {
     "name": "stdout",
     "output_type": "stream",
     "text": [
      "('His', 'Math')\n"
     ]
    }
   ],
   "source": [
    "print(tuples_1)"
   ]
  },
  {
   "cell_type": "code",
   "execution_count": 29,
   "id": "3618091f-64cc-41a6-bcad-889bbbac688f",
   "metadata": {},
   "outputs": [],
   "source": [
    "#for creation of an empty tuple\n",
    "empty_tuple=()\n",
    "empty_list=list()"
   ]
  },
  {
   "cell_type": "code",
   "execution_count": 17,
   "id": "605761c6-d147-443e-aa76-3eeb37f580dd",
   "metadata": {},
   "outputs": [
    {
     "name": "stdout",
     "output_type": "stream",
     "text": [
      "{'his', 'art'}\n"
     ]
    }
   ],
   "source": [
    " #SETS\n",
    "#unordered with no duplicates.'{' bracket is basically used.\n",
    "is_courses={'his','art'}\n",
    "print(is_courses)"
   ]
  },
  {
   "cell_type": "code",
   "execution_count": 19,
   "id": "8493e199-e783-41cb-9f66-bfbd629fd44e",
   "metadata": {},
   "outputs": [
    {
     "name": "stdout",
     "output_type": "stream",
     "text": [
      "False\n"
     ]
    }
   ],
   "source": [
    "print('math' in is_courses)"
   ]
  },
  {
   "cell_type": "code",
   "execution_count": 21,
   "id": "900c10c7-c3ed-42ca-b7e3-2c10b073dc35",
   "metadata": {},
   "outputs": [
    {
     "name": "stdout",
     "output_type": "stream",
     "text": [
      "{'art'}\n"
     ]
    }
   ],
   "source": [
    "art_courses={'draw','art'}\n",
    "#for getting common\n",
    "print(is_courses.intersection(art_courses))"
   ]
  },
  {
   "cell_type": "code",
   "execution_count": 23,
   "id": "0914fb81-1878-4ccc-808f-6b9c6bb808ba",
   "metadata": {},
   "outputs": [
    {
     "name": "stdout",
     "output_type": "stream",
     "text": [
      "{'his'}\n"
     ]
    }
   ],
   "source": [
    "#for getting non common\n",
    "print(is_courses.difference(art_courses))"
   ]
  },
  {
   "cell_type": "code",
   "execution_count": 25,
   "id": "9645cc95-0d8c-4a49-886a-a6b28dadec79",
   "metadata": {},
   "outputs": [
    {
     "name": "stdout",
     "output_type": "stream",
     "text": [
      "{'his', 'art', 'draw'}\n"
     ]
    }
   ],
   "source": [
    "#for combining both sets use union\n",
    "print(is_courses.union(art_courses))"
   ]
  },
  {
   "cell_type": "code",
   "execution_count": 27,
   "id": "e488e625-c676-463f-9eb1-369b747a6e9e",
   "metadata": {},
   "outputs": [],
   "source": [
    "#creation of an empty set\n",
    "empty_set=set()\n",
    "#we can't create it like this,{} , it will lead to a dictionary\n"
   ]
  },
  {
   "cell_type": "code",
   "execution_count": 39,
   "id": "6a8554e9-270c-42bb-81f1-fad5c6d891a1",
   "metadata": {},
   "outputs": [
    {
     "name": "stdout",
     "output_type": "stream",
     "text": [
      "{'name': 'john', 'age': 25, 'courses': ['Math', 'comps']}\n"
     ]
    }
   ],
   "source": [
    "#       creation of a dictinary\n",
    "# working with key value pairs\n",
    "#in dictionary each word is key and definition is value\n",
    "student={'name':'john','age':25,'courses':['Math','comps']}\n",
    "print(student)"
   ]
  },
  {
   "cell_type": "code",
   "execution_count": 43,
   "id": "c7944fa6-452e-430f-91bf-7311ef658e8e",
   "metadata": {},
   "outputs": [
    {
     "name": "stdout",
     "output_type": "stream",
     "text": [
      "john\n"
     ]
    }
   ],
   "source": [
    "print(student['name'])"
   ]
  },
  {
   "cell_type": "code",
   "execution_count": 45,
   "id": "10ce4aa6-0876-40ee-b743-180d31657d70",
   "metadata": {},
   "outputs": [
    {
     "name": "stdout",
     "output_type": "stream",
     "text": [
      "None\n"
     ]
    }
   ],
   "source": [
    "#we can also access keys using get method, which is better\n",
    "print(student.get('phone'))"
   ]
  },
  {
   "cell_type": "code",
   "execution_count": 47,
   "id": "8a040e40-3cdb-48d3-99a8-e0d407e0ad5f",
   "metadata": {},
   "outputs": [
    {
     "name": "stdout",
     "output_type": "stream",
     "text": [
      "not found\n"
     ]
    }
   ],
   "source": [
    "print(student.get('phone','not found'))"
   ]
  },
  {
   "cell_type": "code",
   "execution_count": 67,
   "id": "2a5a6837-b869-4c92-a1a3-72809aeddc56",
   "metadata": {},
   "outputs": [
    {
     "name": "stdout",
     "output_type": "stream",
     "text": [
      "{'name': 'Jane', 'age': 25, 'courses': ['Math', 'comps'], 'phone': '555-556'}\n"
     ]
    }
   ],
   "source": [
    "#for updating any existing value\n",
    "student['phone']='555-556'\n",
    "student['name']='Jane'\n",
    "print(student)"
   ]
  },
  {
   "cell_type": "code",
   "execution_count": 71,
   "id": "7a100f69-bc87-4fe8-92b9-3021c5a92ab2",
   "metadata": {},
   "outputs": [
    {
     "name": "stdout",
     "output_type": "stream",
     "text": [
      "{'name': 'Janes', 'age': 25, 'courses': ['Math', 'comps'], 'phone': '555-555'}\n"
     ]
    }
   ],
   "source": [
    "#for updating multiple values,take help of update function\n",
    "student.update({'name':'Janes','phone':'555-555'})\n",
    "print(student)"
   ]
  },
  {
   "cell_type": "code",
   "execution_count": 75,
   "id": "91f4405a-2214-4165-9094-e04b8dc84e7b",
   "metadata": {},
   "outputs": [],
   "source": [
    "#for deletion of any key\n",
    "del student['age']"
   ]
  },
  {
   "cell_type": "code",
   "execution_count": 77,
   "id": "0bd3cc78-adb1-4b1c-9638-a8ff7dbf374a",
   "metadata": {},
   "outputs": [
    {
     "name": "stdout",
     "output_type": "stream",
     "text": [
      "{'name': 'Janes', 'courses': ['Math', 'comps'], 'phone': '555-555'}\n"
     ]
    }
   ],
   "source": [
    "print(student)"
   ]
  },
  {
   "cell_type": "code",
   "execution_count": 79,
   "id": "8aff8901-49b6-43a5-b098-fc6d30943e4b",
   "metadata": {},
   "outputs": [
    {
     "name": "stdout",
     "output_type": "stream",
     "text": [
      "3\n"
     ]
    }
   ],
   "source": [
    "#length of key\n",
    "print(len(student))"
   ]
  },
  {
   "cell_type": "code",
   "execution_count": 81,
   "id": "9dfe2d56-86a8-4bff-8810-8bae03b49593",
   "metadata": {},
   "outputs": [
    {
     "name": "stdout",
     "output_type": "stream",
     "text": [
      "dict_keys(['name', 'courses', 'phone'])\n"
     ]
    }
   ],
   "source": [
    "#accessing keys\n",
    "print(student.keys())"
   ]
  },
  {
   "cell_type": "code",
   "execution_count": 83,
   "id": "0dd4fb18-aad5-4b3f-ba61-41c9f881c649",
   "metadata": {},
   "outputs": [
    {
     "name": "stdout",
     "output_type": "stream",
     "text": [
      "dict_values(['Janes', ['Math', 'comps'], '555-555'])\n"
     ]
    }
   ],
   "source": [
    "#accessing values\n",
    "print(student.values())"
   ]
  },
  {
   "cell_type": "code",
   "execution_count": 85,
   "id": "eefb3695-b278-4889-9f75-be2121c963a8",
   "metadata": {},
   "outputs": [
    {
     "name": "stdout",
     "output_type": "stream",
     "text": [
      "dict_items([('name', 'Janes'), ('courses', ['Math', 'comps']), ('phone', '555-555')])\n"
     ]
    }
   ],
   "source": [
    "#accessing them in pairs\n",
    "print(student.items())"
   ]
  },
  {
   "cell_type": "code",
   "execution_count": 89,
   "id": "0f38fa47-b4fb-4379-b3d5-12f9ac4fce98",
   "metadata": {},
   "outputs": [
    {
     "name": "stdout",
     "output_type": "stream",
     "text": [
      "name\n",
      "courses\n",
      "phone\n"
     ]
    }
   ],
   "source": [
    "#access using loop\n",
    "for key in student:\n",
    "    print(key)"
   ]
  },
  {
   "cell_type": "code",
   "execution_count": 91,
   "id": "71be03d1-c148-4860-aea0-90d00b5ce22d",
   "metadata": {},
   "outputs": [
    {
     "name": "stdout",
     "output_type": "stream",
     "text": [
      "name Janes\n",
      "courses ['Math', 'comps']\n",
      "phone 555-555\n"
     ]
    }
   ],
   "source": [
    "#for accessing both\n",
    "for key,value in student.items():\n",
    "    print(key,value)"
   ]
  },
  {
   "cell_type": "code",
   "execution_count": null,
   "id": "7fa41769-10fd-4811-b9e7-9d600ded6e80",
   "metadata": {},
   "outputs": [],
   "source": []
  }
 ],
 "metadata": {
  "kernelspec": {
   "display_name": "Python [conda env:base] *",
   "language": "python",
   "name": "conda-base-py"
  },
  "language_info": {
   "codemirror_mode": {
    "name": "ipython",
    "version": 3
   },
   "file_extension": ".py",
   "mimetype": "text/x-python",
   "name": "python",
   "nbconvert_exporter": "python",
   "pygments_lexer": "ipython3",
   "version": "3.12.7"
  }
 },
 "nbformat": 4,
 "nbformat_minor": 5
}
